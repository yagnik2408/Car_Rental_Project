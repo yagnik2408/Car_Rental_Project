{
 "cells": [
  {
   "cell_type": "code",
   "execution_count": 1,
   "id": "0f31e61d-4a61-4a8b-a42f-8da6bdb7b973",
   "metadata": {},
   "outputs": [
    {
     "name": "stdout",
     "output_type": "stream",
     "text": [
      "\n",
      "        ====== Car Rental Shop =======\n",
      "        1. Display available cars\n",
      "        2. Request a car on hourly basis ($5 per hour)\n",
      "        3. Request a car on daily basis ($20 per day)\n",
      "        4. Request a car on weekly basis ($60 per week)\n",
      "        5. Return a car\n",
      "        6. Exit\n",
      "        \n"
     ]
    },
    {
     "name": "stdin",
     "output_type": "stream",
     "text": [
      "Enter your choice:  1\n"
     ]
    },
    {
     "name": "stdout",
     "output_type": "stream",
     "text": [
      "Total cars available for rent: 100\n",
      "\n",
      "        ====== Car Rental Shop =======\n",
      "        1. Display available cars\n",
      "        2. Request a car on hourly basis ($5 per hour)\n",
      "        3. Request a car on daily basis ($20 per day)\n",
      "        4. Request a car on weekly basis ($60 per week)\n",
      "        5. Return a car\n",
      "        6. Exit\n",
      "        \n"
     ]
    },
    {
     "name": "stdin",
     "output_type": "stream",
     "text": [
      "Enter your choice:  2\n",
      "How many cars would you like to rent?  10\n"
     ]
    },
    {
     "name": "stdout",
     "output_type": "stream",
     "text": [
      "Rented 10 car(s) on hourly basis at 14:40\n",
      "\n",
      "        ====== Car Rental Shop =======\n",
      "        1. Display available cars\n",
      "        2. Request a car on hourly basis ($5 per hour)\n",
      "        3. Request a car on daily basis ($20 per day)\n",
      "        4. Request a car on weekly basis ($60 per week)\n",
      "        5. Return a car\n",
      "        6. Exit\n",
      "        \n"
     ]
    },
    {
     "name": "stdin",
     "output_type": "stream",
     "text": [
      "Enter your choice:  5\n"
     ]
    },
    {
     "name": "stdout",
     "output_type": "stream",
     "text": [
      "Thanks for returning your car(s). Your bill is $0.11\n",
      "\n",
      "        ====== Car Rental Shop =======\n",
      "        1. Display available cars\n",
      "        2. Request a car on hourly basis ($5 per hour)\n",
      "        3. Request a car on daily basis ($20 per day)\n",
      "        4. Request a car on weekly basis ($60 per week)\n",
      "        5. Return a car\n",
      "        6. Exit\n",
      "        \n"
     ]
    },
    {
     "name": "stdin",
     "output_type": "stream",
     "text": [
      "Enter your choice:  4\n",
      "How many cars would you like to rent?  50\n"
     ]
    },
    {
     "name": "stdout",
     "output_type": "stream",
     "text": [
      "Rented 50 car(s) on weekly basis at 14:40\n",
      "\n",
      "        ====== Car Rental Shop =======\n",
      "        1. Display available cars\n",
      "        2. Request a car on hourly basis ($5 per hour)\n",
      "        3. Request a car on daily basis ($20 per day)\n",
      "        4. Request a car on weekly basis ($60 per week)\n",
      "        5. Return a car\n",
      "        6. Exit\n",
      "        \n"
     ]
    },
    {
     "name": "stdin",
     "output_type": "stream",
     "text": [
      "Enter your choice:  5\n"
     ]
    },
    {
     "name": "stdout",
     "output_type": "stream",
     "text": [
      "Thanks for returning your car(s). Your bill is $0.00\n",
      "\n",
      "        ====== Car Rental Shop =======\n",
      "        1. Display available cars\n",
      "        2. Request a car on hourly basis ($5 per hour)\n",
      "        3. Request a car on daily basis ($20 per day)\n",
      "        4. Request a car on weekly basis ($60 per week)\n",
      "        5. Return a car\n",
      "        6. Exit\n",
      "        \n"
     ]
    },
    {
     "name": "stdin",
     "output_type": "stream",
     "text": [
      "Enter your choice:  6\n"
     ]
    }
   ],
   "source": [
    "# main.ipynb\n",
    "#import sys\n",
    "#sys.path.append('Car_Rental_Project/car_rental.ipynb')\n",
    "\n",
    "from car_rental import CarRental, Customer\n",
    "\n",
    "def main():\n",
    "    car_rental = CarRental(100)  # Initial inventory: 100 cars\n",
    "    customer = Customer()\n",
    "\n",
    "    while True:\n",
    "        print(\"\"\"\n",
    "        ====== Car Rental Shop =======\n",
    "        1. Display available cars\n",
    "        2. Request a car on hourly basis ($5 per hour)\n",
    "        3. Request a car on daily basis ($20 per day)\n",
    "        4. Request a car on weekly basis ($60 per week)\n",
    "        5. Return a car\n",
    "        6. Exit\n",
    "        \"\"\")\n",
    "        \n",
    "        choice = int(input(\"Enter your choice: \"))\n",
    "\n",
    "        if choice == 1:\n",
    "            car_rental.display_available_cars()\n",
    "\n",
    "        elif choice == 2:\n",
    "            customer.rental_time = car_rental.rent_hourly(customer.request_car())\n",
    "            customer.rental_basis = 1\n",
    "\n",
    "        elif choice == 3:\n",
    "            customer.rental_time = car_rental.rent_daily(customer.request_car())\n",
    "            customer.rental_basis = 2\n",
    "\n",
    "        elif choice == 4:\n",
    "            customer.rental_time = car_rental.rent_weekly(customer.request_car())\n",
    "            customer.rental_basis = 3\n",
    "\n",
    "        elif choice == 5:\n",
    "            request = customer.return_car()\n",
    "            car_rental.return_car(request)\n",
    "\n",
    "        elif choice == 6:\n",
    "            break\n",
    "\n",
    "        else:\n",
    "            print(\"Invalid input. Please enter a number between 1 and 6.\")\n",
    "\n",
    "if __name__ == \"__main__\":\n",
    "    main()\n"
   ]
  },
  {
   "cell_type": "code",
   "execution_count": null,
   "id": "5ef684d7-2c64-4427-9a03-04b9491906e0",
   "metadata": {},
   "outputs": [],
   "source": []
  }
 ],
 "metadata": {
  "kernelspec": {
   "display_name": "Python 3 (ipykernel)",
   "language": "python",
   "name": "python3"
  },
  "language_info": {
   "codemirror_mode": {
    "name": "ipython",
    "version": 3
   },
   "file_extension": ".py",
   "mimetype": "text/x-python",
   "name": "python",
   "nbconvert_exporter": "python",
   "pygments_lexer": "ipython3",
   "version": "3.12.4"
  }
 },
 "nbformat": 4,
 "nbformat_minor": 5
}
